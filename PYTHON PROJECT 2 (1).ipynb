{
 "cells": [
  {
   "cell_type": "code",
   "execution_count": 1,
   "id": "1a50fccc",
   "metadata": {},
   "outputs": [
    {
     "name": "stdout",
     "output_type": "stream",
     "text": [
      "' 4 '\n",
      "press y to roll again and n to exit:y\n",
      "\n",
      "' 4 '\n",
      "press y to roll again and n to exit:y\n",
      "\n",
      "' 1 '\n",
      "press y to roll again and n to exit:n\n",
      "\n"
     ]
    }
   ],
   "source": [
    "import random\n",
    " \n",
    "x = \"y\"\n",
    "  \n",
    "while x == \"y\":\n",
    "     \n",
    "    \n",
    "    no = random.randint(1,6)\n",
    "     \n",
    "    if no == 1:\n",
    "        \n",
    "        print(\"' 1 '\")\n",
    "        \n",
    "    if no == 2:\n",
    "        \n",
    "        print(\"' 2 '\")\n",
    "        \n",
    "    if no == 3:\n",
    "        \n",
    "        print(\"' 3 '\")\n",
    "        \n",
    "    if no  == 4:\n",
    "        \n",
    "        print(\"' 4 '\")\n",
    "        \n",
    "    if no == 5:\n",
    "        \n",
    "        print(\"' 5 '\")\n",
    "        \n",
    "    if no == 6:\n",
    "        \n",
    "        print(\"' 6 '\")\n",
    "        \n",
    "         \n",
    "    x=input(\"press y to roll again and n to exit:\")\n",
    "    print()"
   ]
  },
  {
   "cell_type": "code",
   "execution_count": null,
   "id": "79424a36",
   "metadata": {},
   "outputs": [],
   "source": []
  }
 ],
 "metadata": {
  "kernelspec": {
   "display_name": "Python 3 (ipykernel)",
   "language": "python",
   "name": "python3"
  },
  "language_info": {
   "codemirror_mode": {
    "name": "ipython",
    "version": 3
   },
   "file_extension": ".py",
   "mimetype": "text/x-python",
   "name": "python",
   "nbconvert_exporter": "python",
   "pygments_lexer": "ipython3",
   "version": "3.11.5"
  }
 },
 "nbformat": 4,
 "nbformat_minor": 5
}
