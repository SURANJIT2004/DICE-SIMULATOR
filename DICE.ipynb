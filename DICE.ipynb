{
 "cells": [
  {
   "cell_type": "code",
   "execution_count": 4,
   "id": "875fef3d",
   "metadata": {},
   "outputs": [
    {
     "name": "stdin",
     "output_type": "stream",
     "text": [
      "How many dice do you want to roll?  5\n"
     ]
    },
    {
     "name": "stdout",
     "output_type": "stream",
     "text": [
      "You rolled:\n",
      "2 , 2 , 2 , 4 , 2 , "
     ]
    }
   ],
   "source": [
    "import random\n",
    "\n",
    "\n",
    "def roll_dice(num_dice):\n",
    "        \n",
    "    rolls = []\n",
    "    for i in range(num_dice):\n",
    "        roll = random.randint(1, 6)\n",
    "        rolls.append(roll)\n",
    "    return rolls\n",
    "\n",
    "\n",
    "def main():\n",
    "        \n",
    "    num_dice = int(input(\"How many dice do you want to roll? \"))\n",
    "    rolls = roll_dice(num_dice)\n",
    "    print(\"You rolled:\")\n",
    "    for roll in rolls:\n",
    "        print(roll , end=' , ')\n",
    "\n",
    "if __name__ == \"__main__\":\n",
    "    main()"
   ]
  }
 ],
 "metadata": {
  "kernelspec": {
   "display_name": "Python 3 (ipykernel)",
   "language": "python",
   "name": "python3"
  },
  "language_info": {
   "codemirror_mode": {
    "name": "ipython",
    "version": 3
   },
   "file_extension": ".py",
   "mimetype": "text/x-python",
   "name": "python",
   "nbconvert_exporter": "python",
   "pygments_lexer": "ipython3",
   "version": "3.11.5"
  }
 },
 "nbformat": 4,
 "nbformat_minor": 5
}
